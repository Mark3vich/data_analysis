{
 "cells": [
  {
   "cell_type": "code",
   "execution_count": null,
   "metadata": {},
   "outputs": [
    {
     "ename": "",
     "evalue": "",
     "output_type": "error",
     "traceback": [
      "\u001b[1;31mRunning cells with 'c:\\Users\\79202\\AppData\\Local\\Microsoft\\WindowsApps\\python3.9.exe' requires the ipykernel package.\n",
      "\u001b[1;31mRun the following command to install 'ipykernel' into the Python environment. \n",
      "\u001b[1;31mCommand: 'c:/Users/79202/AppData/Local/Microsoft/WindowsApps/python3.9.exe -m pip install ipykernel -U --user --force-reinstall'"
     ]
    }
   ],
   "source": [
    "import csv "
   ]
  },
  {
   "cell_type": "code",
   "execution_count": null,
   "metadata": {},
   "outputs": [],
   "source": [
    "# Принимаем данные из таблицы\n",
    "def putTheData(dataset: list, ref: str) -> list:\n",
    "    with open(ref, encoding='utf-8') as r_file:\n",
    "        reader = csv.reader(r_file)\n",
    "        for row in reader:\n",
    "            dataset.append(row)\n",
    "    return dataset"
   ]
  },
  {
   "cell_type": "code",
   "execution_count": null,
   "metadata": {},
   "outputs": [],
   "source": [
    "# Переведем все числовые признаки в целочисленные неотрицательные\n",
    "def convertColumns(dataset: list) -> list:\n",
    "    converted_array: list = []\n",
    "    for sublist in dataset:\n",
    "        converted_sublist: list = []\n",
    "        for element in sublist:\n",
    "            if isinstance(element, str) and element.replace(\".\", \"\", 1).isdigit():\n",
    "                converted_sublist.append(int(float(element)))\n",
    "            else:\n",
    "                converted_sublist.append(element)\n",
    "        converted_array.append(converted_sublist)\n",
    "\n",
    "    return converted_array"
   ]
  },
  {
   "cell_type": "code",
   "execution_count": null,
   "metadata": {},
   "outputs": [],
   "source": [
    "# Переведем обратно  \n",
    "def convertColumnsReverse(dataset: list) -> list:\n",
    "    converted_array: list = []\n",
    "    for sublist in dataset:\n",
    "        converted_sublist: list = []\n",
    "        for index, element in enumerate(sublist):\n",
    "            if(index == 1 or index == 5 or index == 6):\n",
    "                try:\n",
    "                    converted_sublist.append(str(float(element)))\n",
    "                except:\n",
    "                    converted_sublist.append(element) \n",
    "            converted_sublist.append(str(element))\n",
    "        converted_array.append(converted_sublist)\n",
    "    return converted_array"
   ]
  },
  {
   "cell_type": "code",
   "execution_count": null,
   "metadata": {},
   "outputs": [],
   "source": [
    "if __name__ == '__main__':  \n",
    "    dataset: list = []\n",
    "    ref:     str  = 'diabetes_prediction_dataset.csv'\n",
    "\n",
    "    putTheData(dataset, ref)\n",
    "    convertColumns(dataset)\n",
    "    convertColumnsReverse(dataset)"
   ]
  }
 ],
 "metadata": {
  "kernelspec": {
   "display_name": "Python 3",
   "language": "python",
   "name": "python3"
  },
  "language_info": {
   "name": "python",
   "version": "3.9.13"
  },
  "orig_nbformat": 4
 },
 "nbformat": 4,
 "nbformat_minor": 2
}
